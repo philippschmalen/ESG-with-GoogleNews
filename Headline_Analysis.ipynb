{
 "cells": [
  {
   "cell_type": "code",
   "execution_count": 23,
   "metadata": {},
   "outputs": [],
   "source": [
    "import pandas as pd\n",
    "import nltk\n",
    "import re\n",
    "\n",
    "from gensim.models import Word2Vec\n",
    "from nltk.corpus import stopwords"
   ]
  },
  {
   "cell_type": "code",
   "execution_count": 31,
   "metadata": {},
   "outputs": [],
   "source": [
    "def preprocess(df):\n",
    "    corpus = df['title']\n",
    "    corpus = join_into_string(corpus)\n",
    "    \n",
    "    processed_text = clean_text(corpus)\n",
    "    \n",
    "    all_words = tokenize(processed_text)\n",
    "    return all_words\n",
    "\n",
    "def join_into_string(corpus):\n",
    "    corpus = [i for i in corpus]\n",
    "    corpus = \" \".join(corpus)\n",
    "    return corpus\n",
    "\n",
    "def clean_text(corpus):\n",
    "    processed_text = corpus.lower()\n",
    "    processed_text = re.sub('[^a-zA-Z]', ' ', processed_text)\n",
    "    processed_text = re.sub(r'\\s+', ' ', processed_text)\n",
    "    return processed_text\n",
    "\n",
    "def tokenize(processed_text):\n",
    "    all_sentences = nltk.sent_tokenize(processed_text)\n",
    "    all_words = [nltk.word_tokenize(sent) for sent in all_sentences]\n",
    "    for i in range(len(all_words)):\n",
    "        all_words[i] = [w for w in all_words[i] if w not in stopwords.words('english')]\n",
    "    return all_words"
   ]
  },
  {
   "cell_type": "code",
   "execution_count": 34,
   "metadata": {},
   "outputs": [],
   "source": [
    "df = pd.read_pickle(\"test_data.pkl\")\n",
    "all_words = preprocess(df)"
   ]
  },
  {
   "cell_type": "code",
   "execution_count": 36,
   "metadata": {},
   "outputs": [
    {
     "data": {
      "text/plain": [
       "[('modern', 0.41677993535995483),\n",
       " ('cloud', 0.3742678761482239),\n",
       " ('available', 0.37268587946891785),\n",
       " ('software', 0.37263423204421997),\n",
       " ('acquisition', 0.3397260308265686),\n",
       " ('probleme', 0.32023799419403076),\n",
       " ('next', 0.3076329827308655),\n",
       " ('information', 0.30046969652175903),\n",
       " ('hit', 0.2910577654838562),\n",
       " ('ios', 0.28891003131866455)]"
      ]
     },
     "execution_count": 36,
     "metadata": {},
     "output_type": "execute_result"
    }
   ],
   "source": [
    "word2vec = Word2Vec(all_words, min_count=2)\n",
    "sim_words = word2vec.wv.most_similar('microsoft')\n",
    "sim_words"
   ]
  },
  {
   "cell_type": "code",
   "execution_count": null,
   "metadata": {},
   "outputs": [],
   "source": []
  },
  {
   "cell_type": "code",
   "execution_count": null,
   "metadata": {},
   "outputs": [],
   "source": []
  }
 ],
 "metadata": {
  "kernelspec": {
   "display_name": "Python 3",
   "language": "python",
   "name": "python3"
  },
  "language_info": {
   "codemirror_mode": {
    "name": "ipython",
    "version": 3
   },
   "file_extension": ".py",
   "mimetype": "text/x-python",
   "name": "python",
   "nbconvert_exporter": "python",
   "pygments_lexer": "ipython3",
   "version": "3.8.3"
  }
 },
 "nbformat": 4,
 "nbformat_minor": 4
}
